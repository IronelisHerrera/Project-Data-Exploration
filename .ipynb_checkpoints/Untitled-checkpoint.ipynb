{
 "cells": [
  {
   "cell_type": "markdown",
   "id": "dd112269",
   "metadata": {},
   "source": [
    "## Exploración de datos\n",
    "\n",
    "En esta sección, trabajararemos con las siguientes librerías:\n",
    "- pandas, matplotlib, gob, pil (para manipular imágenes usando python)"
   ]
  },
  {
   "cell_type": "code",
   "execution_count": null,
   "id": "68d4e244",
   "metadata": {},
   "outputs": [],
   "source": [
    "#Anotaciones de la división de la in"
   ]
  },
  {
   "cell_type": "code",
   "execution_count": null,
   "id": "12f6b566",
   "metadata": {},
   "outputs": [],
   "source": [
    "#para que el matplotlib funcione en una misma linea\n",
    "%matplotlib inline\n",
    "%connfig InlineBackend.figure_format='retina'"
   ]
  },
  {
   "cell_type": "code",
   "execution_count": null,
   "id": "308d0d4e",
   "metadata": {},
   "outputs": [],
   "source": []
  },
  {
   "cell_type": "code",
   "execution_count": null,
   "id": "ba98967f",
   "metadata": {},
   "outputs": [],
   "source": [
    "from PIL import Image\n",
    "import glob\n",
    "\n"
   ]
  },
  {
   "cell_type": "code",
   "execution_count": null,
   "id": "6d6cc140",
   "metadata": {},
   "outputs": [],
   "source": []
  },
  {
   "cell_type": "code",
   "execution_count": null,
   "id": "df3b5bdc",
   "metadata": {},
   "outputs": [],
   "source": [
    "\n"
   ]
  }
 ],
 "metadata": {
  "kernelspec": {
   "display_name": "Python 3.9.5 64-bit ('tl-demo-env': conda)",
   "language": "python",
   "name": "python395jvsc74a57bd0bc59aad141c0f264f4d8fc363b7839f3dc08a7a0bc234a327fac97a9e6971cc7"
  },
  "language_info": {
   "codemirror_mode": {
    "name": "ipython",
    "version": 3
   },
   "file_extension": ".py",
   "mimetype": "text/x-python",
   "name": "python",
   "nbconvert_exporter": "python",
   "pygments_lexer": "ipython3",
   "version": "3.9.5"
  }
 },
 "nbformat": 4,
 "nbformat_minor": 5
}
