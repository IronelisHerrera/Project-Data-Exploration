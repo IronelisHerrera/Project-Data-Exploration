{
 "cells": [
  {
   "cell_type": "markdown",
   "metadata": {},
   "source": [
    "#Recolección de datos\n",
    "\n",
    "- Se utilizarán una serie de librerías para la exploración de los datos. En las cuales están Pandas, matplotlib, numpy PIL y glob:\n",
    "    - pandas:\n",
    "    - matplotlib:\n",
    "    - numpy:\n",
    "    - PIL:\n",
    "    - glob:\n"
   ]
  },
  {
   "cell_type": "code",
   "execution_count": null,
   "metadata": {},
   "outputs": [],
   "source": [
    "import pandas as pd\n",
    "import matplotlib.pyplot as plt\n",
    "import numpy as np\n",
    "from PIL import Image \n",
    "import glob\n"
   ]
  },
  {
   "cell_type": "code",
   "execution_count": null,
   "metadata": {},
   "outputs": [],
   "source": [
    "count_au = len(glob.glob(\"../Proyecto-PrimeraEntrega/dataset-images/auriculares/*.jpg\"))\n",
    "count_cel = len(glob.glob(\"../Proyecto-PrimeraEntrega/dataset-images/celular/*.jpg\")) #Como hago que me coja los dos formatos juntos\n",
    "count_cel2 = len(glob.glob(\"../Proyecto-PrimeraEntrega/dataset-images/celular/*.jpeg\"))\n",
    "\n",
    "print(count_au)\n",
    "print(count_cel)\n",
    "print(count_cel2)\n",
    "\n",
    "list_images = []\n",
    "\n",
    "for filename in glob.glob(\"../Proyecto-PrimeraEntrega/dataset-images/auriculares/*.jpg\"):\n",
    "    image = Image.open(filename)\n",
    "    list_images = []\n",
    "    list_images.append(image)\n",
    "    print(list_images)\n",
    "    \n",
    "\n"
   ]
  }
 ],
 "metadata": {
  "interpreter": {
   "hash": "6cc8763cc51cd500894a7eab035ddf1ff15334686ae4d03d64e4ad3ed28f95ce"
  },
  "kernelspec": {
   "display_name": "Python 3.9.1 64-bit ('base': conda)",
   "name": "python3"
  },
  "language_info": {
   "name": "python",
   "version": ""
  },
  "orig_nbformat": 4
 },
 "nbformat": 4,
 "nbformat_minor": 2
}