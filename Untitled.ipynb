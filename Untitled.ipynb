{
 "cells": [
  {
   "cell_type": "markdown",
   "id": "dfa7dc25",
   "metadata": {},
   "source": [
    "## Exploración de datos\n",
    "\n",
    "En esta sección, trabajararemos con las siguientes librerías:\n",
    "- pandas, matplotlib, gob, pil (para manipular imágenes usando python)"
   ]
  },
  {
   "cell_type": "code",
   "execution_count": null,
   "id": "f316cb97",
   "metadata": {},
   "outputs": [],
   "source": [
    "#Anotaciones de la división de la información:\n",
    "# training = conjunto de datos para el entrenamiento del modelo.\n",
    "# validation = Es utilizado  para  validar  o  comprobar  nuestro  \n",
    "#modelo  durante  el  entrenamiento. Mediante las  validaciones  \n",
    "#podemos  elegir  el  mejor  modelo  a  utilizar mediante los resultados\n",
    "#de precisión arrojados en este conjunto. Igualmente determina si es necesario utilizar\n",
    "#optimizadores y ajuste o 'tunning'\n",
    "\n",
    "#testing = Para medir qué tan bueno es el modelo, para medir  el desempeño\n",
    "#del  modelo.\n",
    "\n",
    "\n",
    "#Los altavoces solo son de los cilíndricos.\n",
    "\n",
    "#70% training 20 validation and 10 test - split-folders "
   ]
  },
  {
   "cell_type": "code",
   "execution_count": null,
   "id": "4d6aa682",
   "metadata": {},
   "outputs": [],
   "source": [
    "#para que el matplotlib funcione en una misma linea\n",
    "%matplotlib inline\n",
    "%connfig InlineBackend.figure_format='retina'"
   ]
  },
  {
   "cell_type": "code",
   "execution_count": null,
   "id": "a20a17c2",
   "metadata": {},
   "outputs": [],
   "source": []
  },
  {
   "cell_type": "code",
   "execution_count": null,
   "id": "7923b6d0",
   "metadata": {},
   "outputs": [],
   "source": [
    "from PIL import Image\n",
    "import glob\n",
    "\n"
   ]
  },
  {
   "cell_type": "code",
   "execution_count": null,
   "id": "0ff1151f",
   "metadata": {},
   "outputs": [],
   "source": []
  },
  {
   "cell_type": "code",
   "execution_count": null,
   "id": "17479434",
   "metadata": {},
   "outputs": [],
   "source": [
    "\n"
   ]
  }
 ],
 "metadata": {
  "kernelspec": {
   "display_name": "Python 3.9.5 64-bit ('tl-demo-env': conda)",
   "language": "python",
   "name": "python395jvsc74a57bd0bc59aad141c0f264f4d8fc363b7839f3dc08a7a0bc234a327fac97a9e6971cc7"
  },
  "language_info": {
   "codemirror_mode": {
    "name": "ipython",
    "version": 3
   },
   "file_extension": ".py",
   "mimetype": "text/x-python",
   "name": "python",
   "nbconvert_exporter": "python",
   "pygments_lexer": "ipython3",
   "version": "3.9.5"
  }
 },
 "nbformat": 4,
 "nbformat_minor": 5
}
